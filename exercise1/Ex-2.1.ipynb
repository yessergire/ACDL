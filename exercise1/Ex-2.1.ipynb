{
 "cells": [
  {
   "cell_type": "code",
   "execution_count": 1,
   "metadata": {},
   "outputs": [],
   "source": [
    "from __future__ import print_function\n",
    "import argparse\n",
    "import torch\n",
    "import torch.nn as nn\n",
    "import torch.nn.functional as F\n",
    "import torch.optim as optim\n",
    "from torchvision import datasets, transforms\n",
    "from torch.optim.lr_scheduler import StepLR\n",
    "import matplotlib.pyplot as plt"
   ]
  },
  {
   "cell_type": "code",
   "execution_count": 2,
   "metadata": {},
   "outputs": [],
   "source": [
    "input_dim=784 #Mnist: 28x28 images -> input dimension = 784\n",
    "hidden_dim=128 #width of the hidden layer\n",
    "output_dim=10 #10 classes (the digits in mnist)"
   ]
  },
  {
   "cell_type": "code",
   "execution_count": 3,
   "metadata": {},
   "outputs": [],
   "source": [
    "class Net(nn.Module):\n",
    "    def __init__(self):\n",
    "        super(Net, self).__init__()\n",
    "        self.fc1 = nn.Linear(input_dim, hidden_dim)\n",
    "        self.fc2 = nn.Linear(hidden_dim, output_dim)\n",
    "                \n",
    "    def forward(self, x):\n",
    "        x = torch.flatten(x, 1)\n",
    "        x = self.fc1(x)\n",
    "        x = F.relu(x)\n",
    "        x = self.fc2(x)\n",
    "        output = F.log_softmax(x, dim=1)\n",
    "        return output"
   ]
  },
  {
   "cell_type": "markdown",
   "metadata": {},
   "source": [
    "Slight modification to ```ff_main.py``` file:\n",
    "- the ```train``` method has an added param ```reg```, that trains\n",
    "  the model using $L_{reg}$ regularization. For example, when using ```reg=1```,\n",
    "  the model is trained using $L_1$ reguralization and when using ```reg=2```,\n",
    "  $L_2$ reguralization is used."
   ]
  },
  {
   "cell_type": "code",
   "execution_count": 4,
   "metadata": {},
   "outputs": [],
   "source": [
    "def train(model, device, train_loader, optimizer, epoch, reg=2):\n",
    "    model.train()\n",
    "\n",
    "    for batch_idx, (data, target) in enumerate(train_loader):\n",
    "        data, target = data.to(device), target.to(device)\n",
    "        optimizer.zero_grad()\n",
    "        output = model(data)\n",
    "        loss = F.nll_loss(output, target)\n",
    "\n",
    "        # Adding L_reg loss\n",
    "        l_reg = 0.0\n",
    "        alpha=0.001\n",
    "        for param in model.parameters():\n",
    "            l_reg += alpha*torch.norm(param, reg) ** reg\n",
    "        loss += l_reg\n",
    "\n",
    "        loss.backward()\n",
    "        optimizer.step()\n",
    "\n",
    "        if batch_idx % log_interval == 0:\n",
    "            print('Train Epoch: {} [{}/{} ({:.0f}%)]\\tLoss: {:.6f}'.format(\n",
    "                epoch, batch_idx * len(data), len(train_loader.dataset),\n",
    "                100. * batch_idx / len(train_loader), loss.item()))"
   ]
  },
  {
   "cell_type": "markdown",
   "metadata": {},
   "source": [
    "Slight modification to ```ff_main.py``` file: the ```test``` method returns the test rate."
   ]
  },
  {
   "cell_type": "code",
   "execution_count": 5,
   "metadata": {},
   "outputs": [],
   "source": [
    "def test(model, device, test_loader):\n",
    "    model.eval()\n",
    "    test_loss = 0\n",
    "    correct = 0\n",
    "    with torch.no_grad():\n",
    "        for data, target in test_loader:\n",
    "            data, target = data.to(device), target.to(device)\n",
    "            output = model(data)\n",
    "            test_loss += F.nll_loss(output, target, reduction='sum').item()  # sum up batch loss\n",
    "            pred = output.argmax(dim=1, keepdim=True)  # get the index of the max log-probability\n",
    "            correct += pred.eq(target.view_as(pred)).sum().item()\n",
    "\n",
    "    test_loss /= len(test_loader.dataset)\n",
    "\n",
    "    print('\\nTest set: Average loss: {:.4f}, Accuracy: {}/{} ({:.0f}%)\\n'.format(\n",
    "        test_loss, correct, len(test_loader.dataset),\n",
    "        100. * correct / len(test_loader.dataset)))\n",
    "    return correct / len(test_loader.dataset)"
   ]
  },
  {
   "cell_type": "code",
   "execution_count": 6,
   "metadata": {},
   "outputs": [],
   "source": [
    "batch_size = 100\n",
    "test_batch_size= 1000\n",
    "epochs = 14\n",
    "lr = 0.1\n",
    "gamma = 0.7\n",
    "seed = 1\n",
    "log_interval = 60\n",
    "save_model=False"
   ]
  },
  {
   "cell_type": "code",
   "execution_count": 7,
   "metadata": {},
   "outputs": [],
   "source": [
    "torch.manual_seed(seed)\n",
    "\n",
    "device = \"cpu\" # \"cuda\"\n",
    "\n",
    "train_kwargs = {'batch_size': batch_size}\n",
    "test_kwargs = {'batch_size': test_batch_size}\n",
    "if device == \"cuda\":\n",
    "    cuda_kwargs = {'num_workers': 1,\n",
    "                   'pin_memory': True,\n",
    "                   'shuffle': True}"
   ]
  },
  {
   "cell_type": "code",
   "execution_count": 8,
   "metadata": {},
   "outputs": [],
   "source": [
    "transform=transforms.Compose([\n",
    "    transforms.ToTensor(),\n",
    "    transforms.Normalize((0.1307,), (0.3081,))\n",
    "    ])\n",
    "dataset1 = datasets.MNIST('../data', train=True, download=False,\n",
    "                   transform=transform)\n",
    "dataset2 = datasets.MNIST('../data', train=False, download=False,\n",
    "                   transform=transform)\n",
    "train_loader = torch.utils.data.DataLoader(dataset1,**train_kwargs)\n",
    "test_loader = torch.utils.data.DataLoader(dataset2, **test_kwargs)"
   ]
  },
  {
   "cell_type": "code",
   "execution_count": 9,
   "metadata": {},
   "outputs": [],
   "source": [
    "model = Net().to(device)\n",
    "optimizer = optim.Adadelta(model.parameters(), lr=lr)"
   ]
  },
  {
   "cell_type": "code",
   "execution_count": null,
   "metadata": {
    "scrolled": true
   },
   "outputs": [
    {
     "name": "stdout",
     "output_type": "stream",
     "text": [
      "Training using the L'1' reguralization\n",
      "Train Epoch: 1 [0/60000 (0%)]\tLoss: 4.146940\n",
      "Train Epoch: 1 [6000/60000 (10%)]\tLoss: 2.064221\n",
      "Train Epoch: 1 [12000/60000 (20%)]\tLoss: 1.698361\n",
      "Train Epoch: 1 [18000/60000 (30%)]\tLoss: 1.411469\n",
      "Train Epoch: 1 [24000/60000 (40%)]\tLoss: 1.176971\n",
      "Train Epoch: 1 [30000/60000 (50%)]\tLoss: 1.137388\n",
      "Train Epoch: 1 [36000/60000 (60%)]\tLoss: 1.057780\n",
      "Train Epoch: 1 [42000/60000 (70%)]\tLoss: 0.874290\n",
      "Train Epoch: 1 [48000/60000 (80%)]\tLoss: 0.783380\n",
      "Train Epoch: 1 [54000/60000 (90%)]\tLoss: 0.919809\n",
      "\n",
      "Test set: Average loss: 0.3730, Accuracy: 9007/10000 (90%)\n",
      "\n",
      "Train Epoch: 2 [0/60000 (0%)]\tLoss: 0.742363\n"
     ]
    }
   ],
   "source": [
    "accs = {}\n",
    "epochs = 14\n",
    "\n",
    "for reg in range(1,3):\n",
    "    scheduler = StepLR(optimizer, step_size=1, gamma=gamma)\n",
    "    acc = []\n",
    "    print(f\"Training using the L'{reg}' reguralization\")\n",
    "    for epoch in range(1, epochs + 1):\n",
    "        train(model, device, train_loader, optimizer, epoch, reg)\n",
    "        a = test(model, device, test_loader)\n",
    "        acc.append(a)\n",
    "        scheduler.step()\n",
    "    accs[reg] = acc\n",
    "    print()"
   ]
  },
  {
   "cell_type": "code",
   "execution_count": null,
   "metadata": {},
   "outputs": [],
   "source": [
    "import numpy as np\n",
    "for i, acc in accs.items():\n",
    "    plt.plot(1 - np.array(acc), label=f\"L{i}\")\n",
    "\n",
    "plt.xlabel(\"Epoch\")\n",
    "plt.ylabel(\"Error rate\")\n",
    "plt.legend()\n",
    "plt.show()"
   ]
  },
  {
   "cell_type": "code",
   "execution_count": null,
   "metadata": {},
   "outputs": [],
   "source": [
    "c1=0\n",
    "threshold=1e-4\n",
    "for (i,p) in enumerate(model.parameters()):\n",
    "#in this case i==0 and i==2 refer to weight matrices\n",
    "    if i==0 or i==2:\n",
    "        c1+=sum(sum(torch.abs(p.data)<threshold)).item()\n",
    "c1"
   ]
  }
 ],
 "metadata": {
  "kernelspec": {
   "display_name": "Python 3",
   "language": "python",
   "name": "python3"
  },
  "language_info": {
   "codemirror_mode": {
    "name": "ipython",
    "version": 3
   },
   "file_extension": ".py",
   "mimetype": "text/x-python",
   "name": "python",
   "nbconvert_exporter": "python",
   "pygments_lexer": "ipython3",
   "version": "3.7.6"
  }
 },
 "nbformat": 4,
 "nbformat_minor": 4
}
